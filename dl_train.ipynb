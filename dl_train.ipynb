{
 "cells": [
  {
   "cell_type": "code",
   "execution_count": null,
   "metadata": {
    "id": "OHH26M3tIOU1"
   },
   "outputs": [],
   "source": [
    "#import libraries\n",
    "import numpy as np\n",
    "import tensorflow as tf\n",
    "from tensorflow import keras\n",
    "import pandas as pd\n",
    "from tqdm import tqdm\n",
    "import re\n",
    "\n",
    "from keras.preprocessing.text import Tokenizer\n",
    "from keras.preprocessing.sequence import pad_sequences\n",
    "from keras.utils import np_utils\n",
    "from keras.models import Sequential\n",
    "from keras.layers import Embedding, Flatten, Dense, LSTM, Bidirectional, Conv1D, MaxPooling1D\n",
    "from tensorflow.keras import optimizers\n",
    "from sklearn.preprocessing import LabelBinarizer\n",
    "from sklearn.utils import class_weight\n"
   ]
  },
  {
   "cell_type": "code",
   "execution_count": null,
   "metadata": {
    "id": "CCOpbsETQLel"
   },
   "outputs": [],
   "source": [
    "#importing dataset\n",
    "tqdm.pandas()\n",
    "df = pd.read_excel('/dataset/annotated_reviews.xlsx')\n",
    "df.drop(['Unnamed: 0'],axis = 1, inplace = True)\n",
    "df = df.sample(frac = 1).reset_index(drop=True)"
   ]
  },
  {
   "cell_type": "code",
   "execution_count": null,
   "metadata": {
    "colab": {
     "base_uri": "https://localhost:8080/"
    },
    "id": "ToZnsXCHBG8q",
    "outputId": "79c86552-643b-457c-d5d4-34dff5d76dc7"
   },
   "outputs": [
    {
     "data": {
      "text/plain": [
       "positive    3051\n",
       "negative    2585\n",
       "neutral      905\n",
       "Name: category, dtype: int64"
      ]
     },
     "execution_count": 3,
     "metadata": {},
     "output_type": "execute_result"
    }
   ],
   "source": [
    "df.dropna(inplace=True)\n",
    "df[\"category\"].value_counts()"
   ]
  },
  {
   "cell_type": "code",
   "execution_count": null,
   "metadata": {
    "id": "WQlifOzgpHbA"
   },
   "outputs": [],
   "source": [
    "# utility function to build custom vocabulary of our dataset\n",
    "\n",
    "def build_vocab(sentences, verbose =  True):\n",
    "    \"\"\"\n",
    "    :param sentences: list of list of words\n",
    "    :return: dictionary of words and their count\n",
    "    \"\"\"\n",
    "    vocab = {}\n",
    "    for sentence in tqdm(sentences, disable = (not verbose)):\n",
    "        for word in sentence:\n",
    "            try:\n",
    "                vocab[word] += 1\n",
    "            except KeyError:\n",
    "                vocab[word] = 1\n",
    "    return vocab"
   ]
  },
  {
   "cell_type": "code",
   "execution_count": null,
   "metadata": {
    "colab": {
     "base_uri": "https://localhost:8080/"
    },
    "id": "fjXLDFSJSo7P",
    "outputId": "55fe8e20-7e9a-4382-f374-cfbdc2c25490"
   },
   "outputs": [
    {
     "data": {
      "text/plain": [
       "positive    3051\n",
       "negative    2585\n",
       "Name: category, dtype: int64"
      ]
     },
     "execution_count": 16,
     "metadata": {},
     "output_type": "execute_result"
    }
   ],
   "source": [
    "#Running for only for only pos and neg category, dont run this part if u want to include neutral.\n",
    "df = df.loc[df[\"category\"]!='neutral']\n",
    "df[\"category\"].value_counts()"
   ]
  },
  {
   "cell_type": "code",
   "execution_count": null,
   "metadata": {
    "colab": {
     "base_uri": "https://localhost:8080/"
    },
    "id": "mNxFAyH9qtkx",
    "outputId": "e9ca0a0e-3e7d-4cd5-e628-0e7bd44b8938"
   },
   "outputs": [
    {
     "name": "stderr",
     "output_type": "stream",
     "text": [
      "100%|██████████| 5636/5636 [00:00<00:00, 77913.71it/s]\n",
      "100%|██████████| 5636/5636 [00:00<00:00, 34846.75it/s]"
     ]
    },
    {
     "name": "stdout",
     "output_type": "stream",
     "text": [
      "{'যারা': 485, 'ছোট': 312, 'বেলায়': 13, 'ক্রিকেট': 32, 'খেলছেন।এই': 1}\n"
     ]
    },
    {
     "name": "stderr",
     "output_type": "stream",
     "text": [
      "\n"
     ]
    }
   ],
   "source": [
    "sentences = df[\"review\"].apply(str).progress_apply(lambda x: x.split()).values\n",
    "vocab = build_vocab(sentences)\n",
    "print({k: vocab[k] for k in list(vocab)[:5]})"
   ]
  },
  {
   "cell_type": "code",
   "execution_count": null,
   "metadata": {
    "id": "5yuhXVFotK5P"
   },
   "outputs": [],
   "source": [
    "# loading fasttext word embedding matrix\n",
    "# The embedding matrix can be found in the link provided. \n",
    "# Download the 300 dimensional bengali embeddingmatrix and save it in the current working directory.\n",
    "# https://fasttext.cc/docs/en/crawl-vectors.html\n",
    "\n",
    "fasttext_dir = 'cc.bn.300.vec'\n",
    "embeddings_index = {}\n",
    "import numpy as np\n",
    "import io\n",
    "def load_vectors(fname):\n",
    "    fin = io.open(fname, 'r', encoding='utf-8', newline='\\n', errors='ignore')\n",
    "    n, d = map(int, fin.readline().split())\n",
    "    data = {}\n",
    "    for line in fin:\n",
    "        tokens = line.rstrip().split(' ')\n",
    "        data[tokens[0]] = np.asarray(tokens[1:], dtype='float32')\n",
    "        #data[tokens[0]] = map(float, tokens[1:])\n",
    "    return data\n",
    " \n",
    "embeddings_index = load_vectors(fasttext_dir)"
   ]
  },
  {
   "cell_type": "code",
   "execution_count": null,
   "metadata": {
    "id": "nY3IIOjJvCbB"
   },
   "outputs": [],
   "source": [
    "# utility function to determines the percentage of vocabulary exists in the embedding matrix\n",
    "#It will output a list of out of vocabulary (oov) words\n",
    "#that we can use to improve our preprocessing\n",
    "import operator \n",
    " \n",
    "def check_coverage(vocab,embeddings_index):\n",
    "    a = {}\n",
    "    oov = {}\n",
    "    k = 0\n",
    "    i = 0\n",
    "    for word in tqdm(vocab):\n",
    "        try:\n",
    "            a[word] = embeddings_index[word]\n",
    "            k += vocab[word]\n",
    "        except:\n",
    " \n",
    "            oov[word] = vocab[word]\n",
    "            i += vocab[word]\n",
    "            pass\n",
    " \n",
    "    print('Found embeddings for {:.2%} of vocab'.format(len(a) / len(vocab)))\n",
    "    print('Found embeddings for  {:.2%} of all text'.format(k / (k + i)))\n",
    "    sorted_x = sorted(oov.items(), key=operator.itemgetter(1))[::-1]\n",
    " \n",
    "    return sorted_x"
   ]
  },
  {
   "cell_type": "code",
   "execution_count": null,
   "metadata": {
    "colab": {
     "base_uri": "https://localhost:8080/"
    },
    "id": "5auzFYFIvrBs",
    "outputId": "20f9b996-9ba6-4b61-f8d9-6055972958a7"
   },
   "outputs": [
    {
     "name": "stderr",
     "output_type": "stream",
     "text": [
      "100%|██████████| 71166/71166 [00:00<00:00, 755981.76it/s]"
     ]
    },
    {
     "name": "stdout",
     "output_type": "stream",
     "text": [
      "Found embeddings for 53.36% of vocab\n",
      "Found embeddings for  84.81% of all text\n"
     ]
    },
    {
     "name": "stderr",
     "output_type": "stream",
     "text": [
      "\n"
     ]
    }
   ],
   "source": [
    "#out of vocabulary words\n",
    "#initial: 53.21% of vocab, 85.59% of all text\n",
    "oov = check_coverage(vocab,embeddings_index)"
   ]
  },
  {
   "cell_type": "code",
   "execution_count": null,
   "metadata": {
    "colab": {
     "base_uri": "https://localhost:8080/"
    },
    "id": "BMhU36hkwHp5",
    "outputId": "a80bd4cf-1f37-4666-e94b-e4d7d6f85971"
   },
   "outputs": [
    {
     "data": {
      "text/plain": [
       "[('না।', 1905),\n",
       " ('হয়েছে।', 785),\n",
       " ('বই।', 716),\n",
       " ('যায়।', 627),\n",
       " ('হয়।', 620),\n",
       " ('করে।', 566),\n",
       " ('আছে।', 492),\n",
       " ('না,', 464),\n",
       " ('হবে।', 451),\n",
       " ('নেই।', 451),\n",
       " ('নয়।', 366),\n",
       " ('করেছেন।', 357),\n",
       " ('জন্য।', 347),\n",
       " ('লেগেছে।', 328),\n",
       " ('থাকে।', 315),\n",
       " ('ছিল।', 312),\n",
       " ('পারে।', 298),\n",
       " ('করেন।', 281),\n",
       " ('উপন্যাস।', 239),\n",
       " ('যে,', 223)]"
      ]
     },
     "execution_count": 9,
     "metadata": {
      "tags": []
     },
     "output_type": "execute_result"
    }
   ],
   "source": [
    "oov[:20]"
   ]
  },
  {
   "cell_type": "code",
   "execution_count": null,
   "metadata": {
    "id": "P49eMcg1wRdk"
   },
   "outputs": [],
   "source": [
    "# utility function to clean text, ommiting every character other than bangla alphabet and numbers\n",
    "def clean_text(x):\n",
    "    pattern = r'[^ঁ-৯\\s]'\n",
    "    x = re.sub(pattern, '', x)\n",
    "    return x"
   ]
  },
  {
   "cell_type": "code",
   "execution_count": null,
   "metadata": {
    "id": "3ZONR779BT7K"
   },
   "outputs": [],
   "source": [
    "# Modifying stopword list\n",
    "\n",
    "f = open(\"stop_words.txt\",\"r\")\n",
    "stopwords_list = f.read().split('\\n')\n",
    "stopwords_list_extend = ['রকমারি','বুক','বইটি','বই','বইটা','বইটিতে','#রকমারি_বইপোকা_রিভিউ_প্রতিযোগিতা','রকমারি_বইপোকা_রিভিউ_প্রতিযোগিতা','উপন্যাস','উপন্যাসটা','উপন্যাসটি','যে','তা','পাঠপ্রতিক্রিয়াঃ','রকমারিরিভিউপ্রতিযোগমার্চ']\n",
    "remove_list =['অবশ্য','যথেষ্ট','নয়','না','নেই','বাদে','যদিও','যত','যতটা']\n",
    "for t in remove_list:\n",
    "  stopwords_list.remove(t)\n",
    "stopwords_list.extend(stopwords_list_extend)\n",
    "f.close()"
   ]
  },
  {
   "cell_type": "code",
   "execution_count": null,
   "metadata": {
    "id": "fhwZ9s7g9PPx"
   },
   "outputs": [],
   "source": [
    "# utility function to remove stopwords\n",
    "\n",
    "def removing_stopwords(text):\n",
    "  words = text.split(' ')\n",
    "  words_without_stopwords = [word for word in words if not word in stopwords_list]\n",
    "  filtered_Txt = \" \".join(words_without_stopwords)\n",
    "  return filtered_Txt"
   ]
  },
  {
   "cell_type": "code",
   "execution_count": null,
   "metadata": {
    "id": "2YXvO0u_Fhyq"
   },
   "outputs": [],
   "source": [
    "# cleaning text and removing stopwords\n",
    "\n",
    "df[\"review\"] = df[\"review\"].apply(str).apply(removing_stopwords)\n",
    "df[\"review\"] = df[\"review\"].apply(str).apply(clean_text)"
   ]
  },
  {
   "cell_type": "code",
   "execution_count": null,
   "metadata": {
    "colab": {
     "base_uri": "https://localhost:8080/"
    },
    "id": "vxX7uzr2FgCb",
    "outputId": "43aaffd1-2c28-481b-bbf6-dca4de073d84"
   },
   "outputs": [
    {
     "name": "stderr",
     "output_type": "stream",
     "text": [
      "100%|██████████| 5636/5636 [00:00<00:00, 84790.86it/s]\n",
      "100%|██████████| 5636/5636 [00:00<00:00, 46193.03it/s]\n",
      "100%|██████████| 51291/51291 [00:00<00:00, 782092.00it/s]"
     ]
    },
    {
     "name": "stdout",
     "output_type": "stream",
     "text": [
      "Found embeddings for 75.99% of vocab\n",
      "Found embeddings for  95.29% of all text\n"
     ]
    },
    {
     "name": "stderr",
     "output_type": "stream",
     "text": [
      "\n"
     ]
    }
   ],
   "source": [
    "#after some preprocessing 75.95% of vocab, 95.14% of all text\n",
    "\n",
    "sentences = df[\"review\"].progress_apply(lambda x: x.split()).values\n",
    "vocab = build_vocab(sentences)\n",
    "oov = check_coverage(vocab,embeddings_index)"
   ]
  },
  {
   "cell_type": "code",
   "execution_count": null,
   "metadata": {
    "colab": {
     "base_uri": "https://localhost:8080/"
    },
    "id": "G9bHp-wNE5VD",
    "outputId": "bda15933-6d16-435d-af2a-7c0d20bf9152"
   },
   "outputs": [
    {
     "data": {
      "text/plain": [
       "444     2148\n",
       "3303    1167\n",
       "1071    1097\n",
       "1634    1041\n",
       "1114    1004\n",
       "4533     945\n",
       "898      918\n",
       "5383     886\n",
       "3582     879\n",
       "942      865\n",
       "475      860\n",
       "5802     801\n",
       "963      784\n",
       "1290     772\n",
       "3137     765\n",
       "1179     715\n",
       "5939     698\n",
       "1541     688\n",
       "3078     684\n",
       "4511     680\n",
       "Name: review, dtype: int64"
      ]
     },
     "execution_count": 24,
     "metadata": {
      "tags": []
     },
     "output_type": "execute_result"
    }
   ],
   "source": [
    "# seeing the top 20 wordcount of reviews in our dataset\n",
    "df[\"review\"].apply(lambda x: len(x.split())).nlargest(20)"
   ]
  },
  {
   "cell_type": "code",
   "execution_count": null,
   "metadata": {
    "id": "HtKsojeGPOI7"
   },
   "outputs": [],
   "source": [
    "#selecting reviews with length less than n=300\n",
    "df = df[df['review'].apply(lambda x: len(x.split()) <= 300)] #450"
   ]
  },
  {
   "cell_type": "code",
   "execution_count": null,
   "metadata": {
    "colab": {
     "base_uri": "https://localhost:8080/",
     "height": 281
    },
    "id": "upeokg6sFrxB",
    "outputId": "313da862-2d2d-4a51-c817-72b77cc8e00b"
   },
   "outputs": [
    {
     "data": {
      "image/png": "[encoded data removed]",
      "text/plain": [
       "<Figure size 432x288 with 1 Axes>"
      ]
     },
     "metadata": {
      "needs_background": "light"
     },
     "output_type": "display_data"
    }
   ],
   "source": [
    "#Here, we will analyze the length of the reviews and the summary to get an overall idea about the distribution of length of the text.\n",
    "#This will help us fix the maximum length of the sequence:\n",
    " \n",
    "import matplotlib.pyplot as plt\n",
    "text_word_count = []\n",
    " \n",
    "# populate the lists with sentence lengths\n",
    "for i in df['review']:\n",
    "      text_word_count.append(len(i.split()))\n",
    " \n",
    "length_df = pd.DataFrame({'text':text_word_count})\n",
    "length_df.hist(bins=5)\n",
    "plt.show()"
   ]
  },
  {
   "cell_type": "code",
   "execution_count": null,
   "metadata": {
    "colab": {
     "base_uri": "https://localhost:8080/"
    },
    "id": "673ansG2NXLH",
    "outputId": "5d26810f-9a4b-45cc-9513-b5b4f7ab9745"
   },
   "outputs": [
    {
     "name": "stdout",
     "output_type": "stream",
     "text": [
      "300\n"
     ]
    }
   ],
   "source": [
    "#for finding the largest lentence length in the dataset\n",
    "maxlenfind=length_df.nlargest(1,columns=\"text\")[\"text\"].tolist()[0]\n",
    "print(maxlenfind)"
   ]
  },
  {
   "cell_type": "code",
   "execution_count": null,
   "metadata": {
    "colab": {
     "base_uri": "https://localhost:8080/"
    },
    "id": "th8LIH6NIpfn",
    "outputId": "d1fe3087-a592-467b-f3be-ae52912c6ba4"
   },
   "outputs": [
    {
     "name": "stdout",
     "output_type": "stream",
     "text": [
      "Found 39299 unique tokens.\n",
      "Shape of data tensor: (5369, 300)\n",
      "Shape of label tensor: (5369, 1)\n",
      "shape of rating tensor:  (5369, 6)\n"
     ]
    }
   ],
   "source": [
    "# Converting relevant column of dataframe into list\n",
    "reviews_text = list(df[\"review\"].apply(str))\n",
    "categories = list(df[\"category\"].apply(str))\n",
    "ratings = list(df[\"rating\"].apply(int))\n",
    "maxlen = maxlenfind\n",
    "\n",
    "#Tokenizing the reviews\n",
    "tokenizer = Tokenizer() #num_words=max_words\n",
    "tokenizer.fit_on_texts(reviews_text)\n",
    "sequences = tokenizer.texts_to_sequences(reviews_text)\n",
    "word_index = tokenizer.word_index\n",
    "print('Found %s unique tokens.' % len(word_index))\n",
    "data = pad_sequences(sequences, maxlen=maxlen)\n",
    "\n",
    "# binarizing the categories\n",
    "label = LabelBinarizer().fit_transform(categories)\n",
    "ratings_encoded = np_utils.to_categorical(df[\"rating\"])\n",
    " \n",
    "print('Shape of data tensor:', data.shape)\n",
    "print('Shape of label tensor:', label.shape)\n",
    "print('shape of rating tensor: ',ratings_encoded.shape)"
   ]
  },
  {
   "cell_type": "code",
   "execution_count": null,
   "metadata": {
    "id": "InEj6Pyse_-z"
   },
   "outputs": [],
   "source": [
    "#deviding dataset into train, validation and test data\n",
    "x_train = data[0:-536] #for length above 250 choose 5200\n",
    "y_train = label[0:-536] \n",
    "ratings_train = ratings_encoded[0:-536]\n",
    " \n",
    "x_test = data[-536:] \n",
    "y_test = label[-536:] \n",
    "ratings_test = ratings_encoded[-536:]"
   ]
  },
  {
   "cell_type": "code",
   "execution_count": null,
   "metadata": {
    "id": "LE1gXri4iTzE"
   },
   "outputs": [],
   "source": [
    "# Converting raw text into vector using embedding matrix\n",
    "\n",
    "max_words = max([max(sequence) for sequence in data])+1\n",
    "embedding_dim = 300\n",
    "embedding_matrix = np.zeros((max_words, embedding_dim))\n",
    "for word, i in word_index.items():\n",
    "  if i < max_words:\n",
    "    embedding_vector = embeddings_index.get(word)\n",
    "    if embedding_vector is not None:\n",
    "      embedding_matrix[i] = embedding_vector"
   ]
  },
  {
   "cell_type": "code",
   "execution_count": null,
   "metadata": {
    "colab": {
     "base_uri": "https://localhost:8080/"
    },
    "id": "QlUjIy9iWZML",
    "outputId": "f3607d18-b0f0-4cfa-cc60-ffb7f7f04585"
   },
   "outputs": [
    {
     "name": "stdout",
     "output_type": "stream",
     "text": [
      "Model: \"sequential_2\"\n",
      "_________________________________________________________________\n",
      "Layer (type)                 Output Shape              Param #   \n",
      "=================================================================\n",
      "embedding_2 (Embedding)      (None, 300, 300)          11790000  \n",
      "_________________________________________________________________\n",
      "bidirectional_1 (Bidirection (None, 256)               439296    \n",
      "_________________________________________________________________\n",
      "dense_4 (Dense)              (None, 64)                16448     \n",
      "_________________________________________________________________\n",
      "dense_5 (Dense)              (None, 1)                 65        \n",
      "=================================================================\n",
      "Total params: 12,245,809\n",
      "Trainable params: 455,809\n",
      "Non-trainable params: 11,790,000\n",
      "_________________________________________________________________\n"
     ]
    }
   ],
   "source": [
    "# Model architecture for LSTM/BiLSTM model \n",
    "# Comment or Uncomment to train a specific model\n",
    "\n",
    "\n",
    "model = Sequential()\n",
    "model.add(Embedding(max_words, embedding_dim, input_length=maxlen))\n",
    "#model.add(LSTM(128))\n",
    "model.add(Bidirectional(LSTM(128)))\n",
    "model.add(Dense(64, activation='relu'))\n",
    "model.add(Dense(1, activation='sigmoid')) # use softmax for 3 category including neutral and last layer size 3\n",
    "\n",
    "model.layers[0].set_weights([embedding_matrix])\n",
    "model.layers[0].trainable = False\n",
    "model.summary()"
   ]
  },
  {
   "cell_type": "code",
   "execution_count": null,
   "metadata": {
    "colab": {
     "base_uri": "https://localhost:8080/"
    },
    "id": "OSlIVSJ-GFQb",
    "outputId": "9b8e82dd-f90e-4546-854b-42717667b461"
   },
   "outputs": [
    {
     "name": "stdout",
     "output_type": "stream",
     "text": [
      "Model: \"sequential_7\"\n",
      "_________________________________________________________________\n",
      "Layer (type)                 Output Shape              Param #   \n",
      "=================================================================\n",
      "embedding_7 (Embedding)      (None, 300, 300)          11790000  \n",
      "_________________________________________________________________\n",
      "conv1d_4 (Conv1D)            (None, 296, 32)           48032     \n",
      "_________________________________________________________________\n",
      "max_pooling1d_4 (MaxPooling1 (None, 98, 32)            0         \n",
      "_________________________________________________________________\n",
      "lstm_7 (LSTM)                (None, 128)               82432     \n",
      "_________________________________________________________________\n",
      "dense_10 (Dense)             (None, 1)                 129       \n",
      "=================================================================\n",
      "Total params: 11,920,593\n",
      "Trainable params: 130,593\n",
      "Non-trainable params: 11,790,000\n",
      "_________________________________________________________________\n"
     ]
    }
   ],
   "source": [
    "# Model architecture for LSTM-CNN model \n",
    "\n",
    "\n",
    "model_LSTM_CNN = Sequential()\n",
    "model_LSTM_CNN.add(Embedding(max_words, embedding_dim, input_length=maxlen))\n",
    "model_LSTM_CNN.add(Conv1D(32, 5, activation='relu'))\n",
    "model_LSTM_CNN.add(MaxPooling1D(3))\n",
    "model_LSTM_CNN.add(LSTM(128))\n",
    "#model_LSTM_CNN.add(Dense(32, activation='relu'))\n",
    "model_LSTM_CNN.add(Dense(1, activation='sigmoid')) # use softmax for 3 category including neutral and last layer size 3\n",
    " \n",
    "model_LSTM_CNN.layers[0].set_weights([embedding_matrix])\n",
    "model_LSTM_CNN.layers[0].trainable = False\n",
    "model_LSTM_CNN.summary()"
   ]
  },
  {
   "cell_type": "code",
   "execution_count": null,
   "metadata": {
    "colab": {
     "base_uri": "https://localhost:8080/"
    },
    "id": "fdjDT5n1L2d9",
    "outputId": "68b27d73-1c00-429c-c2ad-afea2a7a9d61"
   },
   "outputs": [
    {
     "name": "stdout",
     "output_type": "stream",
     "text": [
      "Model: \"sequential_14\"\n",
      "_________________________________________________________________\n",
      "Layer (type)                 Output Shape              Param #   \n",
      "=================================================================\n",
      "embedding_14 (Embedding)     (None, 300, 300)          11790000  \n",
      "_________________________________________________________________\n",
      "conv1d_11 (Conv1D)           (None, 298, 32)           28832     \n",
      "_________________________________________________________________\n",
      "max_pooling1d_11 (MaxPooling (None, 99, 32)            0         \n",
      "_________________________________________________________________\n",
      "bidirectional_8 (Bidirection (None, 256)               164864    \n",
      "_________________________________________________________________\n",
      "dense_17 (Dense)             (None, 1)                 257       \n",
      "=================================================================\n",
      "Total params: 11,983,953\n",
      "Trainable params: 193,953\n",
      "Non-trainable params: 11,790,000\n",
      "_________________________________________________________________\n"
     ]
    }
   ],
   "source": [
    "# Model architecture for BiLSTM-CNN model \n",
    "\n",
    "model_BiLSTM_CNN = Sequential()\n",
    "model_BiLSTM_CNN.add(Embedding(max_words, embedding_dim, input_length=maxlen))\n",
    "#model.add(Flatten())\n",
    "model_BiLSTM_CNN.add(Conv1D(32, 3, activation='relu')) #3\n",
    "model_BiLSTM_CNN.add(MaxPooling1D(3))\n",
    "model_BiLSTM_CNN.add(Bidirectional(LSTM(128)))\n",
    "#model_BiLSTM_CNN.add(Dense(64, activation='relu'))\n",
    "model_BiLSTM_CNN.add(Dense(1, activation='sigmoid')) # use softmax for 3 category including neutral and last layer size 3\n",
    " \n",
    "model_BiLSTM_CNN.layers[0].set_weights([embedding_matrix])\n",
    "model_BiLSTM_CNN.layers[0].trainable = False\n",
    "model_BiLSTM_CNN.summary()"
   ]
  },
  {
   "cell_type": "code",
   "execution_count": null,
   "metadata": {
    "colab": {
     "base_uri": "https://localhost:8080/",
     "height": 644
    },
    "id": "6YwYPAE0fKO0",
    "outputId": "02e85159-58fa-417a-eb5f-526a2d150591"
   },
   "outputs": [
    {
     "data": {
      "image/png": "[encoded data removed]",
      "text/plain": [
       "<IPython.core.display.Image object>"
      ]
     },
     "execution_count": 27,
     "metadata": {},
     "output_type": "execute_result"
    }
   ],
   "source": [
    "# Plotting the model\n",
    "\n",
    "keras.utils.plot_model(model_BiLSTM_CNN, \"images/bilstm_cnn.png\", show_shapes=True)"
   ]
  },
  {
   "cell_type": "code",
   "execution_count": null,
   "metadata": {
    "id": "TzzeJmwkRXpe"
   },
   "outputs": [],
   "source": [
    "# Computing class weights to defend class imbalance\n",
    "wghts = class_weight.compute_class_weight('balanced', np.unique(categories), categories)\n",
    "wghts_dict = dict(enumerate(wghts))"
   ]
  },
  {
   "cell_type": "code",
   "execution_count": null,
   "metadata": {
    "colab": {
     "base_uri": "https://localhost:8080/"
    },
    "id": "5o9KLGteRHa5",
    "outputId": "bcdd4a15-e6c3-4e43-ce5e-e8465713965e"
   },
   "outputs": [
    {
     "name": "stdout",
     "output_type": "stream",
     "text": [
      "Epoch 1/10\n",
      "121/121 [==============================] - 12s 68ms/step - loss: 0.6061 - acc: 0.6570 - val_loss: 0.5331 - val_acc: 0.7611\n",
      "Epoch 2/10\n",
      "121/121 [==============================] - 7s 59ms/step - loss: 0.5489 - acc: 0.7315 - val_loss: 0.5038 - val_acc: 0.7777\n",
      "Epoch 3/10\n",
      "121/121 [==============================] - 7s 58ms/step - loss: 0.5222 - acc: 0.7486 - val_loss: 0.4684 - val_acc: 0.7890\n",
      "Epoch 4/10\n",
      "121/121 [==============================] - 7s 55ms/step - loss: 0.4889 - acc: 0.7755 - val_loss: 0.4543 - val_acc: 0.8087\n",
      "Epoch 5/10\n",
      "121/121 [==============================] - 7s 54ms/step - loss: 0.4672 - acc: 0.7887 - val_loss: 0.4262 - val_acc: 0.8128\n",
      "Epoch 6/10\n",
      "121/121 [==============================] - 6s 52ms/step - loss: 0.4474 - acc: 0.7982 - val_loss: 0.4152 - val_acc: 0.8170\n",
      "Epoch 7/10\n",
      "121/121 [==============================] - 6s 50ms/step - loss: 0.4316 - acc: 0.8068 - val_loss: 0.4114 - val_acc: 0.8190\n",
      "Epoch 8/10\n",
      "121/121 [==============================] - 6s 50ms/step - loss: 0.4135 - acc: 0.8107 - val_loss: 0.4146 - val_acc: 0.8190\n",
      "Epoch 9/10\n",
      "121/121 [==============================] - 6s 51ms/step - loss: 0.4033 - acc: 0.8184 - val_loss: 0.4085 - val_acc: 0.8366\n",
      "Epoch 10/10\n",
      "121/121 [==============================] - 6s 51ms/step - loss: 0.3872 - acc: 0.8236 - val_loss: 0.4008 - val_acc: 0.8325\n"
     ]
    }
   ],
   "source": [
    "#callbacks=[tf.keras.callbacks.EarlyStopping('val_loss', patience=3)]\n",
    "model_BiLSTM_CNN.compile(optimizer=optimizers.Adam(learning_rate=0.0002),loss='binary_crossentropy',metrics=['acc']) \n",
    "history = model_BiLSTM_CNN.fit(x_train, y_train, epochs=10, batch_size=32,validation_split = 0.2,class_weight=wghts_dict)\n",
    "model_BiLSTM_CNN.save_weights(\"bilstm_cnn.h5\")\n",
    " \n",
    " \n",
    "# for LSTM_CNN\n",
    "#model_LSTM_CNN.compile(optimizer=optimizers.RMSprop(learning_rate=0.0002),loss='binary_crossentropy',metrics=['acc']) \n",
    "#history = model_LSTM_CNN.fit(x_train, y_train,epochs=10,batch_size=32,validation_split = 0.2,class_weight=wghts_dict)\n",
    "#model_LSTM_CNN.save_weights('lstm_cnn.h5')\n",
    " \n",
    "# for biLstm\n",
    "#model.set_weights('/content/drive/MyDrive/colabworks/BooksReview/models/model_before_training.h5')\n",
    "#model.compile(optimizer=optimizers.RMSprop(learning_rate=0.0002),loss='binary_crossentropy',metrics=['acc']) \n",
    "#history = model.fit(x_train, y_train,epochs=5,batch_size=32,validation_split=0.2,class_weight=wghts_dict)\n",
    "#model.save_weights('bilstm.h5')"
   ]
  },
  {
   "cell_type": "code",
   "execution_count": null,
   "metadata": {
    "id": "S5365oi9L0_9"
   },
   "outputs": [],
   "source": [
    "# to load model from checkpoint\n",
    "#model_LSTM_CNN.load_weights('bilstm_cnn.h5')"
   ]
  },
  {
   "cell_type": "code",
   "execution_count": null,
   "metadata": {
    "colab": {
     "base_uri": "https://localhost:8080/"
    },
    "id": "8vfF8rxqUIvG",
    "outputId": "1843ece9-3ed7-42fe-c21e-4e4b07dbbfbd"
   },
   "outputs": [
    {
     "name": "stdout",
     "output_type": "stream",
     "text": [
      "17/17 [==============================] - 0s 21ms/step - loss: 0.4359 - acc: 0.8209\n"
     ]
    },
    {
     "data": {
      "text/plain": [
       "[0.4359288215637207, 0.8208954930305481]"
      ]
     },
     "execution_count": 66,
     "metadata": {},
     "output_type": "execute_result"
    }
   ],
   "source": [
    "# Evaluating model performance on test data\n",
    "\n",
    "# for bi_lstm\n",
    "#model.evaluate(x_test, y_test)\n",
    " \n",
    "# for LSTM_CNN\n",
    "#model_LSTM_CNN.evaluate(x_test,y_test)\n",
    " \n",
    "# for BiLSTM_CNN\n",
    "model_BiLSTM_CNN.evaluate(x_test,y_test)"
   ]
  },
  {
   "cell_type": "code",
   "execution_count": null,
   "metadata": {
    "colab": {
     "base_uri": "https://localhost:8080/",
     "height": 545
    },
    "id": "N3htZRPbUqHB",
    "outputId": "243ba232-6f14-4ee7-d368-7a3738e12cc0"
   },
   "outputs": [
    {
     "data": {
      "image/png": "[encoded data removed]",
      "text/plain": [
       "<Figure size 432x288 with 1 Axes>"
      ]
     },
     "metadata": {
      "needs_background": "light"
     },
     "output_type": "display_data"
    },
    {
     "data": {
      "image/png": "[encoded data removed]",
      "text/plain": [
       "<Figure size 432x288 with 1 Axes>"
      ]
     },
     "metadata": {
      "needs_background": "light"
     },
     "output_type": "display_data"
    }
   ],
   "source": [
    "#ploting the results\n",
    "import matplotlib.pyplot as plt\n",
    "from scipy import interpolate\n",
    "epochs_new = np.linspace(1,30,100)\n",
    "epochs = range(30)\n",
    "\n",
    "acc = history.history['acc']\n",
    "epochs = range(1, len(acc) + 1)\n",
    "smoothAcc = interpolate.make_interp_spline(epochs, acc)\n",
    "AccNew=smoothAcc(epochs_new)\n",
    "\n",
    "val_acc = history.history['val_acc']\n",
    "smoothValAcc = interpolate.make_interp_spline(epochs, val_acc)\n",
    "AccValNew=smoothValAcc(epochs_new)\n",
    "\n",
    "\n",
    "loss = history.history['loss']\n",
    "smoothLoss = interpolate.make_interp_spline(epochs, loss)\n",
    "LossNew=smoothLoss(epochs_new)\n",
    "\n",
    "\n",
    "val_loss = history.history['val_loss']\n",
    "smoothValLoss = interpolate.make_interp_spline(epochs, val_loss)\n",
    "LossValNew=smoothValLoss(epochs_new)\n",
    "\n",
    "\n",
    "epochs = range(1, len(acc) + 1)\n",
    "plt.plot(epochs_new, AccNew, '-', lineWidth = '3', color=\"orange\", label='Training acc')\n",
    "plt.plot(epochs_new, AccValNew, 'g', label='Validation acc')\n",
    "#plt.plot(epochs, acc,'o',color =\"orange\")\n",
    "#plt.plot(epochs,val_acc,'go')\n",
    "plt.title('Training and validation accuracy')\n",
    "plt.legend()\n",
    "plt.figure()\n",
    "plt.plot(epochs_new, LossNew, '-', lineWidth='3', color =\"orange\", label='Training loss')\n",
    "plt.plot(epochs_new, LossValNew, 'g', label='Validation loss')\n",
    "plt.title('Training and validation loss')\n",
    "plt.legend()\n",
    "plt.savefig('images/bilstm_cnn_losscurve.jpeg',dpi =500)\n",
    "plt.show()"
   ]
  },
  {
   "cell_type": "code",
   "execution_count": null,
   "metadata": {
    "id": "FcpsBVDQ5bdQ"
   },
   "outputs": [],
   "source": [
    "pred = model_BiLSTM_CNN.predict(x_test)"
   ]
  },
  {
   "cell_type": "code",
   "execution_count": null,
   "metadata": {
    "colab": {
     "base_uri": "https://localhost:8080/"
    },
    "id": "FO4HBb-05joa",
    "outputId": "73f7348f-8720-4394-d117-755731470f54"
   },
   "outputs": [
    {
     "name": "stdout",
     "output_type": "stream",
     "text": [
      "[[0]\n",
      " [1]\n",
      " [1]\n",
      " [1]\n",
      " [1]\n",
      " [0]\n",
      " [1]\n",
      " [1]\n",
      " [0]\n",
      " [0]]\n",
      "[[0.00232719]\n",
      " [0.93704337]\n",
      " [0.5996779 ]\n",
      " [0.7645317 ]\n",
      " [0.7679169 ]\n",
      " [0.09992055]\n",
      " [0.7481935 ]\n",
      " [0.12015433]\n",
      " [0.35710737]\n",
      " [0.9233736 ]]\n"
     ]
    }
   ],
   "source": [
    "# Checking if our model can predict the first 10 samples of test data\n",
    "\n",
    "print(y_test[:10])\n",
    "print(pred[:10])"
   ]
  },
  {
   "cell_type": "code",
   "execution_count": null,
   "metadata": {
    "colab": {
     "base_uri": "https://localhost:8080/",
     "height": 464
    },
    "id": "od-59RZj6A5s",
    "outputId": "41adb6f5-6a33-4f56-f208-7a0d3e7072ef"
   },
   "outputs": [
    {
     "name": "stdout",
     "output_type": "stream",
     "text": [
      "[[233  26]\n",
      " [ 70 207]]\n",
      "              precision    recall  f1-score   support\n",
      "\n",
      "    negative     0.7690    0.8996    0.8292       259\n",
      "    positive     0.8884    0.7473    0.8118       277\n",
      "\n",
      "    accuracy                         0.8209       536\n",
      "   macro avg     0.8287    0.8235    0.8205       536\n",
      "weighted avg     0.8307    0.8209    0.8202       536\n",
      "\n"
     ]
    },
    {
     "data": {
      "image/png": "[encoded data removed]",
      "text/plain": [
       "<Figure size 432x288 with 2 Axes>"
      ]
     },
     "metadata": {
      "needs_background": "light"
     },
     "output_type": "display_data"
    }
   ],
   "source": [
    "#for binary\n",
    "import warnings\n",
    "import pandas as pd\n",
    "from sklearn import model_selection\n",
    "from sklearn.metrics import confusion_matrix\n",
    "from sklearn.metrics import classification_report\n",
    "import matplotlib.pyplot as plt\n",
    "%matplotlib inline  \n",
    "\n",
    "#ignore warnings\n",
    "warnings.filterwarnings('ignore')\n",
    "#pred = model.predict([x_test,ratings_test])\n",
    "pred = model_BiLSTM_CNN.predict(x_test)\n",
    "\n",
    "#Construct the Confusion Matrix\n",
    "labels = ['negative','positive']\n",
    "cm = confusion_matrix(y_test, pred.round())\n",
    "#cm = confusion_matrix(y_test, pred)\n",
    "report = classification_report(y_test,pred.round(), digits=4, labels= [0,1], target_names=labels)\n",
    "print(cm)\n",
    "print(report)\n",
    "fig = plt.figure()\n",
    "ax = fig.add_subplot(111)\n",
    "cax = ax.matshow(cm)\n",
    "#plt.title('Confusion matrix')\n",
    "fig.colorbar(cax)\n",
    "ax.set_xticklabels([''] + labels)\n",
    "ax.set_yticklabels([''] + labels)\n",
    "plt.xlabel('Predicted Values')\n",
    "plt.ylabel('Actual Values')\n",
    "plt.show()\n",
    "#plt.savefig('cm_cnn_bilstm.jpeg',dpi = 500)"
   ]
  }
 ],
 "metadata": {
  "accelerator": "GPU",
  "colab": {
   "provenance": []
  },
  "kernelspec": {
   "display_name": "Python 3 (ipykernel)",
   "language": "python",
   "name": "python3"
  },
  "language_info": {
   "codemirror_mode": {
    "name": "ipython",
    "version": 3
   },
   "file_extension": ".py",
   "mimetype": "text/x-python",
   "name": "python",
   "nbconvert_exporter": "python",
   "pygments_lexer": "ipython3",
   "version": "3.9.7"
  }
 },
 "nbformat": 4,
 "nbformat_minor": 1
}
